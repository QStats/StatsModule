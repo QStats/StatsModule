{
 "cells": [
  {
   "cell_type": "code",
   "execution_count": 1,
   "metadata": {},
   "outputs": [],
   "source": [
    "import pandas as pd\n",
    "\n",
    "\n",
    "q = pd.read_csv(\n",
    "    \"demo\\\\network_community_detection\\\\demo_output\\\\adv\\\\csv_files\\\\karate_adv_solution.csv\"\n",
    ")\n",
    "q = q.drop(\"ord\", axis=\"columns\")"
   ]
  },
  {
   "cell_type": "code",
   "execution_count": 2,
   "metadata": {},
   "outputs": [
    {
     "data": {
      "text/html": [
       "<div>\n",
       "<style scoped>\n",
       "    .dataframe tbody tr th:only-of-type {\n",
       "        vertical-align: middle;\n",
       "    }\n",
       "\n",
       "    .dataframe tbody tr th {\n",
       "        vertical-align: top;\n",
       "    }\n",
       "\n",
       "    .dataframe thead th {\n",
       "        text-align: right;\n",
       "    }\n",
       "</style>\n",
       "<table border=\"1\" class=\"dataframe\">\n",
       "  <thead>\n",
       "    <tr style=\"text-align: right;\">\n",
       "      <th></th>\n",
       "      <th>k</th>\n",
       "      <th>mod_score</th>\n",
       "      <th>energy</th>\n",
       "      <th>run_time</th>\n",
       "    </tr>\n",
       "  </thead>\n",
       "  <tbody>\n",
       "    <tr>\n",
       "      <th>count</th>\n",
       "      <td>1.0</td>\n",
       "      <td>1.000000</td>\n",
       "      <td>1.000000</td>\n",
       "      <td>1.00000</td>\n",
       "    </tr>\n",
       "    <tr>\n",
       "      <th>mean</th>\n",
       "      <td>2.0</td>\n",
       "      <td>0.477886</td>\n",
       "      <td>-38.903846</td>\n",
       "      <td>6.26678</td>\n",
       "    </tr>\n",
       "    <tr>\n",
       "      <th>std</th>\n",
       "      <td>NaN</td>\n",
       "      <td>NaN</td>\n",
       "      <td>NaN</td>\n",
       "      <td>NaN</td>\n",
       "    </tr>\n",
       "    <tr>\n",
       "      <th>min</th>\n",
       "      <td>2.0</td>\n",
       "      <td>0.477886</td>\n",
       "      <td>-38.903846</td>\n",
       "      <td>6.26678</td>\n",
       "    </tr>\n",
       "    <tr>\n",
       "      <th>25%</th>\n",
       "      <td>2.0</td>\n",
       "      <td>0.477886</td>\n",
       "      <td>-38.903846</td>\n",
       "      <td>6.26678</td>\n",
       "    </tr>\n",
       "    <tr>\n",
       "      <th>50%</th>\n",
       "      <td>2.0</td>\n",
       "      <td>0.477886</td>\n",
       "      <td>-38.903846</td>\n",
       "      <td>6.26678</td>\n",
       "    </tr>\n",
       "    <tr>\n",
       "      <th>75%</th>\n",
       "      <td>2.0</td>\n",
       "      <td>0.477886</td>\n",
       "      <td>-38.903846</td>\n",
       "      <td>6.26678</td>\n",
       "    </tr>\n",
       "    <tr>\n",
       "      <th>max</th>\n",
       "      <td>2.0</td>\n",
       "      <td>0.477886</td>\n",
       "      <td>-38.903846</td>\n",
       "      <td>6.26678</td>\n",
       "    </tr>\n",
       "  </tbody>\n",
       "</table>\n",
       "</div>"
      ],
      "text/plain": [
       "         k  mod_score     energy  run_time\n",
       "count  1.0   1.000000   1.000000   1.00000\n",
       "mean   2.0   0.477886 -38.903846   6.26678\n",
       "std    NaN        NaN        NaN       NaN\n",
       "min    2.0   0.477886 -38.903846   6.26678\n",
       "25%    2.0   0.477886 -38.903846   6.26678\n",
       "50%    2.0   0.477886 -38.903846   6.26678\n",
       "75%    2.0   0.477886 -38.903846   6.26678\n",
       "max    2.0   0.477886 -38.903846   6.26678"
      ]
     },
     "execution_count": 2,
     "metadata": {},
     "output_type": "execute_result"
    }
   ],
   "source": [
    "q.describe()"
   ]
  },
  {
   "cell_type": "code",
   "execution_count": 3,
   "metadata": {},
   "outputs": [],
   "source": [
    "l = pd.read_csv(\n",
    "    \"demo\\\\network_community_detection\\\\demo_output\\\\louvain\\\\csv_files\\\\karate_louvain_solution.csv\"\n",
    ")\n",
    "l = l.drop(\"ord\", axis=\"columns\")"
   ]
  },
  {
   "cell_type": "code",
   "execution_count": 4,
   "metadata": {},
   "outputs": [
    {
     "data": {
      "text/html": [
       "<div>\n",
       "<style scoped>\n",
       "    .dataframe tbody tr th:only-of-type {\n",
       "        vertical-align: middle;\n",
       "    }\n",
       "\n",
       "    .dataframe tbody tr th {\n",
       "        vertical-align: top;\n",
       "    }\n",
       "\n",
       "    .dataframe thead th {\n",
       "        text-align: right;\n",
       "    }\n",
       "</style>\n",
       "<table border=\"1\" class=\"dataframe\">\n",
       "  <thead>\n",
       "    <tr style=\"text-align: right;\">\n",
       "      <th></th>\n",
       "      <th>k</th>\n",
       "      <th>mod_score</th>\n",
       "      <th>run_time</th>\n",
       "    </tr>\n",
       "  </thead>\n",
       "  <tbody>\n",
       "    <tr>\n",
       "      <th>count</th>\n",
       "      <td>100.0</td>\n",
       "      <td>100.000000</td>\n",
       "      <td>100.000000</td>\n",
       "    </tr>\n",
       "    <tr>\n",
       "      <th>mean</th>\n",
       "      <td>2.0</td>\n",
       "      <td>0.653109</td>\n",
       "      <td>0.001841</td>\n",
       "    </tr>\n",
       "    <tr>\n",
       "      <th>std</th>\n",
       "      <td>0.0</td>\n",
       "      <td>0.004321</td>\n",
       "      <td>0.000963</td>\n",
       "    </tr>\n",
       "    <tr>\n",
       "      <th>min</th>\n",
       "      <td>2.0</td>\n",
       "      <td>0.636092</td>\n",
       "      <td>0.000980</td>\n",
       "    </tr>\n",
       "    <tr>\n",
       "      <th>25%</th>\n",
       "      <td>2.0</td>\n",
       "      <td>0.654195</td>\n",
       "      <td>0.001001</td>\n",
       "    </tr>\n",
       "    <tr>\n",
       "      <th>50%</th>\n",
       "      <td>2.0</td>\n",
       "      <td>0.654195</td>\n",
       "      <td>0.001999</td>\n",
       "    </tr>\n",
       "    <tr>\n",
       "      <th>75%</th>\n",
       "      <td>2.0</td>\n",
       "      <td>0.654195</td>\n",
       "      <td>0.002001</td>\n",
       "    </tr>\n",
       "    <tr>\n",
       "      <th>max</th>\n",
       "      <td>2.0</td>\n",
       "      <td>0.654195</td>\n",
       "      <td>0.006003</td>\n",
       "    </tr>\n",
       "  </tbody>\n",
       "</table>\n",
       "</div>"
      ],
      "text/plain": [
       "           k   mod_score    run_time\n",
       "count  100.0  100.000000  100.000000\n",
       "mean     2.0    0.653109    0.001841\n",
       "std      0.0    0.004321    0.000963\n",
       "min      2.0    0.636092    0.000980\n",
       "25%      2.0    0.654195    0.001001\n",
       "50%      2.0    0.654195    0.001999\n",
       "75%      2.0    0.654195    0.002001\n",
       "max      2.0    0.654195    0.006003"
      ]
     },
     "execution_count": 4,
     "metadata": {},
     "output_type": "execute_result"
    }
   ],
   "source": [
    "l.describe()"
   ]
  },
  {
   "cell_type": "code",
   "execution_count": 3,
   "metadata": {},
   "outputs": [
    {
     "ename": "NameError",
     "evalue": "name 'l' is not defined",
     "output_type": "error",
     "traceback": [
      "\u001b[1;31m---------------------------------------------------------------------------\u001b[0m",
      "\u001b[1;31mNameError\u001b[0m                                 Traceback (most recent call last)",
      "Cell \u001b[1;32mIn[3], line 11\u001b[0m\n\u001b[0;32m      8\u001b[0m axes[\u001b[39m0\u001b[39m]\u001b[39m.\u001b[39mset_title(\u001b[39m\"\u001b[39m\u001b[39mAdv\u001b[39m\u001b[39m\"\u001b[39m)\n\u001b[0;32m      9\u001b[0m \u001b[39m# axes[0].set_xticks(np.arange(0.63, 0.66, 0.01))\u001b[39;00m\n\u001b[1;32m---> 11\u001b[0m axes[\u001b[39m1\u001b[39m]\u001b[39m.\u001b[39mhist(l\u001b[39m.\u001b[39mmod_score)\n\u001b[0;32m     12\u001b[0m axes[\u001b[39m1\u001b[39m]\u001b[39m.\u001b[39mset_title(\u001b[39m\"\u001b[39m\u001b[39mLouvain\u001b[39m\u001b[39m\"\u001b[39m)\n\u001b[0;32m     13\u001b[0m axes[\u001b[39m1\u001b[39m]\u001b[39m.\u001b[39mset_xticks(np\u001b[39m.\u001b[39marange(\u001b[39m0.63\u001b[39m, \u001b[39m0.66\u001b[39m, \u001b[39m0.01\u001b[39m))\n",
      "\u001b[1;31mNameError\u001b[0m: name 'l' is not defined"
     ]
    },
    {
     "data": {
      "image/png": "[encoded data removed]",
      "text/plain": [
       "<Figure size 1000x400 with 2 Axes>"
      ]
     },
     "metadata": {},
     "output_type": "display_data"
    }
   ],
   "source": [
    "import matplotlib.pyplot as plt\n",
    "import numpy as np\n",
    "\n",
    "\n",
    "fig, axes = plt.subplots(1, 2, sharey=False, figsize=(10, 4))\n",
    "\n",
    "axes[0].hist(q.mod_score)\n",
    "axes[0].set_title(\"Adv\")\n",
    "# axes[0].set_xticks(np.arange(0.63, 0.66, 0.01))\n",
    "\n",
    "axes[1].hist(l.mod_score)\n",
    "axes[1].set_title(\"Louvain\")\n",
    "axes[1].set_xticks(np.arange(0.63, 0.66, 0.01))"
   ]
  }
 ],
 "metadata": {
  "kernelspec": {
   "display_name": ".venv",
   "language": "python",
   "name": "python3"
  },
  "language_info": {
   "codemirror_mode": {
    "name": "ipython",
    "version": 3
   },
   "file_extension": ".py",
   "mimetype": "text/x-python",
   "name": "python",
   "nbconvert_exporter": "python",
   "pygments_lexer": "ipython3",
   "version": "3.10.11"
  },
  "orig_nbformat": 4
 },
 "nbformat": 4,
 "nbformat_minor": 2
}
